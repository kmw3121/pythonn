{
 "cells": [
  {
   "cell_type": "markdown",
   "metadata": {},
   "source": [
    "#### Exerciese\n",
    "\n",
    "1. 어떤 벡터가 주어졌을 때 L2 norm을 구하는 함수 get_L2_norm()을 작성하세요\n",
    "\n",
    "\n",
    "- **매개변수** : 1차원 벡터\n",
    "- **반환값** : 인자로 주어진 벡터가 singular하면 True, non-singular하면 False를 반환"
   ]
  },
  {
   "cell_type": "code",
   "execution_count": 3,
   "metadata": {},
   "outputs": [
    {
     "data": {
      "text/plain": [
       "5.477225575051661"
      ]
     },
     "execution_count": 3,
     "metadata": {},
     "output_type": "execute_result"
    }
   ],
   "source": [
    "import numpy as np\n",
    "x=np.array([[1,4],[2,3]])\n",
    "def get_L2_norm(x):\n",
    "    return np.linalg.norm(x)\n",
    "get_L2_norm(x)"
   ]
  },
  {
   "cell_type": "markdown",
   "metadata": {},
   "source": [
    "2. 어떤 행렬이 singular matrix인지 확인하는 함수 is_singular() 을 작성하세요\n",
    "\n",
    "\n",
    "- **매개변수** : 2차원 벡터(np.array)\n",
    "- **변환값** : 인자로 주어진 벡터가 singular하면 True, non-singular하면 False 반환"
   ]
  },
  {
   "cell_type": "code",
   "execution_count": 4,
   "metadata": {},
   "outputs": [
    {
     "data": {
      "text/plain": [
       "False"
      ]
     },
     "execution_count": 4,
     "metadata": {},
     "output_type": "execute_result"
    }
   ],
   "source": [
    "import numpy as np\n",
    "\n",
    "def is_singular(x):\n",
    "    if np.array_equal(x@np.linalg.inv(x),np.eye(2,dtype=float)):\n",
    "        return False\n",
    "    else:\n",
    "        return True\n",
    "x= np.array([[1,4],[2,3]])\n",
    "is_singular(x)"
   ]
  },
  {
   "cell_type": "code",
   "execution_count": null,
   "metadata": {},
   "outputs": [],
   "source": []
  }
 ],
 "metadata": {
  "kernelspec": {
   "display_name": "Python 3",
   "language": "python",
   "name": "python3"
  },
  "language_info": {
   "codemirror_mode": {
    "name": "ipython",
    "version": 3
   },
   "file_extension": ".py",
   "mimetype": "text/x-python",
   "name": "python",
   "nbconvert_exporter": "python",
   "pygments_lexer": "ipython3",
   "version": "3.7.3"
  }
 },
 "nbformat": 4,
 "nbformat_minor": 2
}
