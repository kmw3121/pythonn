{
 "cells": [
  {
   "cell_type": "code",
   "execution_count": null,
   "metadata": {},
   "outputs": [],
   "source": [
    "from flask import Flask, jsonify, request\n",
    "\n",
    "app = Flask(__name__)\n",
    "\n",
    "menus =[\n",
    "    {\"id\":1, \"name\":\"Espresso\",\"price\":3800},\n",
    "    {\"id\":2, \"name\":\"Americano\",\"price\":4100},\n",
    "    {\"id\":3, \"name\":\"CafeLatter\",\"price\":4600},\n",
    "]\n",
    "\n",
    "@app.route('/')\n",
    "def hello_flask():\n",
    "    return '필수과제 + 보너스 1'\n",
    "\n",
    "# Get /menus | 자료를 가지고 온다\n",
    "@app.route('/menus')\n",
    "def get_nemus():\n",
    "    return jsonify({'menus':menus})\n",
    "\n",
    "# Post /menus | 자료를 자원에 추가한다\n",
    "@app.route('/menus', methods=['POST'])\n",
    "def create_menu(): # request가 JSON이라고 가정\n",
    "    # 전달받은 자료를 menus 자원에 추가\n",
    "    request_data = request.get_json() # {\"name\" :..., \"price\":...}\n",
    "    new_menu ={\n",
    "        'id' :menus[-1]['id']+1,\n",
    "        'name':request_data['name'],\n",
    "        'price' : request_data['price'],\n",
    "    }\n",
    "    menus.append(new_menu)\n",
    "    return jsonify(new_menu)\n",
    "@app.route('/menus/<int:id>',methods=['PUT'])\n",
    "def update_menu(id):\n",
    "    request_data = request.get_json()\n",
    "    for i in range(len(menus)):\n",
    "        if menus[i]['id']==id:\n",
    "            menus[i]['name'] = request_data['name']\n",
    "            menus[i]['price'] = request_data['price']\n",
    "    return jsonify({'menus':menus})\n",
    "\n",
    "@app.route('/menus/<int:id>',methods=['DELETE'])\n",
    "def delete_menu(id):\n",
    "    del(menus[id-1])\n",
    "\n",
    "    return jsonify({'menus':menus})\n",
    "if __name__ == '__main__':\n",
    "    app.run()\n"
   ]
  }
 ],
 "metadata": {
  "kernelspec": {
   "display_name": "Python 3",
   "language": "python",
   "name": "python3"
  },
  "language_info": {
   "codemirror_mode": {
    "name": "ipython",
    "version": 3
   },
   "file_extension": ".py",
   "mimetype": "text/x-python",
   "name": "python",
   "nbconvert_exporter": "python",
   "pygments_lexer": "ipython3",
   "version": "3.7.3"
  }
 },
 "nbformat": 4,
 "nbformat_minor": 2
}
